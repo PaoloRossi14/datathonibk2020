{
 "cells": [
  {
   "cell_type": "markdown",
   "metadata": {},
   "source": [
    "# DATATHON IBK 2020"
   ]
  },
  {
   "cell_type": "code",
   "execution_count": 1,
   "metadata": {},
   "outputs": [],
   "source": [
    "import numpy as np\n",
    "import pandas as pd\n",
    "import matplotlib.pyplot as plt\n",
    "import seaborn as sns\n",
    "\n",
    "import re\n",
    "import gc\n",
    "import joblib\n",
    "import pprint\n",
    "from time import time\n",
    "from tqdm.notebook import tqdm\n",
    "\n",
    "from featexp import get_univariate_plots\n",
    "\n",
    "from sklearn.experimental import enable_iterative_imputer\n",
    "from sklearn.impute import SimpleImputer, IterativeImputer\n",
    "from sklearn.metrics import roc_auc_score\n",
    "\n",
    "pd.set_option('display.max_columns', None)\n",
    "%matplotlib inline\n",
    "sns.set_theme(style=\"ticks\")\n",
    "\n",
    "import warnings\n",
    "warnings.filterwarnings(\"ignore\")"
   ]
  },
  {
   "cell_type": "code",
   "execution_count": 200,
   "metadata": {},
   "outputs": [],
   "source": [
    "# Historial crediticio\n",
    "rcc_train = pd.read_csv('data/rcc_train.csv')\n",
    "rcc_test = pd.read_csv('data/rcc_test.csv')\n",
    "# Información socioeconómica\n",
    "se_train = pd.read_csv('data/se_train.csv',index_col='key_value')\n",
    "se_test = pd.read_csv('data/se_test.csv',index_col='key_value')\n",
    "# Información fiscal\n",
    "sunat_train = pd.read_csv('data/sunat_train.csv')\n",
    "sunat_test = pd.read_csv('data/sunat_test.csv')\n",
    "# Información censal\n",
    "censo_train = pd.read_csv('data/censo_train.csv',index_col='key_value')\n",
    "censo_test = pd.read_csv('data/censo_test.csv',index_col='key_value')\n",
    "#productos = pd.read_csv('data/productos.csv',index_col='Productos')\n",
    "\n",
    "y_train = pd.read_csv('data/y_train.csv',index_col='key_value').target"
   ]
  },
  {
   "cell_type": "code",
   "execution_count": 201,
   "metadata": {},
   "outputs": [],
   "source": [
    "rcc_train.drop_duplicates(inplace=True)\n",
    "rcc_test.drop_duplicates(inplace=True)\n",
    "sunat_train.drop_duplicates(inplace=True)\n",
    "sunat_test.drop_duplicates(inplace=True)\n",
    "censo_train.drop_duplicates(inplace=True)\n",
    "censo_test.drop_duplicates(inplace=True)"
   ]
  },
  {
   "cell_type": "code",
   "execution_count": 4,
   "metadata": {},
   "outputs": [],
   "source": [
    "def diferent_vals_cat(train,test,varC):\n",
    "    diferentes = {}\n",
    "    uniques_train =  sorted(train[varC].unique())\n",
    "    uniques_test =  sorted(test[varC].unique())\n",
    "    diferentes['train'] = list(j for j in uniques_train if j not in uniques_test)\n",
    "    diferentes['test'] = list(j for j in uniques_test if j not in uniques_train)\n",
    "    print(\"*\"*10, varC, \"*\"*10)\n",
    "    print(f\"Not in test: {diferentes['train']}\\nNot in train: {diferentes['test']}\")"
   ]
  },
  {
   "cell_type": "code",
   "execution_count": 5,
   "metadata": {},
   "outputs": [],
   "source": [
    "def plot_mean_encoding(df,var):\n",
    "    #df = df[[var,'target']].replace(np.nan,300)\n",
    "    porcs = pd.DataFrame([[i, df[df[var]==i]['target'].sum()/df[df[var]==i].shape[0],\n",
    "                           df[df[var]==i]['target'].sum()/df['target'].sum(),\n",
    "                           df[df[var]==i].shape[0]/df[var].shape[0]]\n",
    "                           for i in df[var].unique()])\n",
    "    porcs.columns = [var,'porc_1','peso_1','peso_cat']#f'count_{var}'\n",
    "    porcs.sort_values(var,inplace=True)\n",
    "    porcs.set_index(var,inplace=True)\n",
    "    f, ax = plt.subplots(figsize=(10,5))\n",
    "    sns.lineplot(data=porcs,markers=True, dashes=False,legend=True,ax=ax,palette='mako')\n",
    "    ax.grid(axis='y')"
   ]
  },
  {
   "cell_type": "code",
   "execution_count": 6,
   "metadata": {},
   "outputs": [],
   "source": [
    "def corr_plot(matrix):\n",
    "    f, ax = plt.subplots(figsize=(10, 7))\n",
    "    mask = np.triu(np.ones_like(matrix, dtype=bool))-np.identity(matrix.shape[0])\n",
    "    cmap = sns.diverging_palette(220, 20, as_cmap=True)\n",
    "    sns.heatmap(matrix, mask=mask, cmap=cmap, center=0, square=True,\n",
    "                linewidths=.5, cbar_kws={\"shrink\": .5},ax=ax)\n",
    "    plt.show()"
   ]
  },
  {
   "cell_type": "code",
   "execution_count": 7,
   "metadata": {},
   "outputs": [],
   "source": [
    "def calculate_woe(df,var):\n",
    "    df = df[[var,'target']].replace(np.nan,9999)\n",
    "    woe = pd.DataFrame([[i, df[df[var]==i]['target'].sum()/df[df[var]==i].shape[0],\n",
    "                         df[df[var]==i].shape[0]/df[var].shape[0],\n",
    "                         (df[df[var]==i]['target'].sum()+0.5)/df['target'].sum(),\n",
    "                         (df[df[var]==i].shape[0]-df[df[var]==i]['target'].sum()+0.5)/df[df.target==0].target.count()]\n",
    "                         for i in df[var].unique()])\n",
    "    woe.columns = [var,'porc1','peso_cat','dist_1','dist_0']\n",
    "    woe['woe'] = np.where(woe.dist_0>0, np.log(woe.dist_1/woe.dist_0), np.inf)\n",
    "    woe['iv'] = np.where(woe.dist_0>0, (woe.dist_1-woe.dist_0)*woe.woe, np.inf)\n",
    "    return woe"
   ]
  },
  {
   "cell_type": "code",
   "execution_count": 8,
   "metadata": {},
   "outputs": [],
   "source": [
    "def create_woeCats(df_woe,bins,train,test):\n",
    "    var = df_woe.iloc[:,[0]].columns[0]\n",
    "    df_woe['grupo'] = pd.cut(df_woe.woe, bins).cat.codes\n",
    "    print(df_woe.groupby('grupo')['peso_cat'].agg(['sum','count']))\n",
    "    \n",
    "    grupos = df_woe.groupby('grupo').sum().iloc[:,3:5]\n",
    "    grupos['woe'] = np.log(grupos.dist_1/grupos.dist_0)\n",
    "    grupos['iv'] = (grupos.dist_1-grupos.dist_0)*grupos.woe\n",
    "    dict_grupos = dict(zip(grupos.index,grupos.woe))\n",
    "    \n",
    "    df_woe['grupo_woe'] = df_woe.grupo.map(dict_grupos)\n",
    "    dict_var_varios = dict(zip(df_woe[var],df_woe.woe))\n",
    "    dict_var_grupos = dict(zip(df_woe[var],df_woe.grupo_woe))\n",
    "    \n",
    "    train[f'{var}_moda'] = train[var].map(dict_var_varios)\n",
    "    test[f'{var}_moda'] = test[var].map(dict_var_varios)\n",
    "    \n",
    "    train[f'{var}_grupos'] = train[var].map(dict_var_grupos)\n",
    "    test[f'{var}_grupos'] = test[var].map(dict_var_grupos)"
   ]
  },
  {
   "cell_type": "markdown",
   "metadata": {},
   "source": [
    "## Start with Credit History"
   ]
  },
  {
   "cell_type": "code",
   "execution_count": 11,
   "metadata": {},
   "outputs": [],
   "source": [
    "rcc_test.PRODUCTO.replace(np.nan,255,inplace=True)\n",
    "rcc_test.PRODUCTO = rcc_test.PRODUCTO.astype('int64')"
   ]
  },
  {
   "cell_type": "code",
   "execution_count": 65,
   "metadata": {},
   "outputs": [
    {
     "name": "stdout",
     "output_type": "stream",
     "text": [
      "********** tipo_credito **********\n",
      "Not in test: []\n",
      "Not in train: [7]\n"
     ]
    }
   ],
   "source": [
    "diferent_vals_cat(rcc_train,rcc_test,'tipo_credito')"
   ]
  },
  {
   "cell_type": "code",
   "execution_count": 202,
   "metadata": {},
   "outputs": [],
   "source": [
    "a = pd.DataFrame(np.sort(rcc_train.saldo.unique())).diff().dropna()\n",
    "a.columns = ['saldo']\n",
    "coef = a.saldo.min()"
   ]
  },
  {
   "cell_type": "code",
   "execution_count": 203,
   "metadata": {},
   "outputs": [],
   "source": [
    "rcc_train['saldo'] = rcc_train.saldo/coef+10000\n",
    "rcc_test['saldo'] = rcc_test.saldo/coef+10000"
   ]
  },
  {
   "cell_type": "code",
   "execution_count": null,
   "metadata": {},
   "outputs": [],
   "source": [
    "bins = [-1, 0, 10, 30, 180, 720, float(\"inf\")]\n",
    "rcc_train[\"condicion_cat\"] = pd.cut(rcc_train.condicion, bins).cat.codes\n",
    "rcc_test[\"condicion_cat\"] = pd.cut(rcc_test.condicion, bins).cat.codes"
   ]
  },
  {
   "cell_type": "code",
   "execution_count": null,
   "metadata": {},
   "outputs": [],
   "source": [
    "varsN = ['key_value','condicion','saldo']\n",
    "varsC = ['tipo_credito','cod_instit_financiera','PRODUCTO','RIESGO_DIRECTO','COD_CLASIFICACION_DEUDOR',\n",
    "         'condicion_cat','key_value']"
   ]
  },
  {
   "cell_type": "code",
   "execution_count": null,
   "metadata": {},
   "outputs": [],
   "source": [
    "moda = lambda x: pd.Series.mode(x)[0]\n",
    "moda.__name__ = 'moda'"
   ]
  },
  {
   "cell_type": "code",
   "execution_count": null,
   "metadata": {},
   "outputs": [],
   "source": [
    "def agg_rcc(df):\n",
    "    global varsN, varsC\n",
    "    varsD = ['saldo','condicion']\n",
    "    \n",
    "    aggfuncs1 = ['mean','std','min','max']\n",
    "    aggfuncs2 = [moda,'nunique']\n",
    "    aggfuncs3 = ['mean','std','sum']\n",
    "\n",
    "    dfN = df[varsN].groupby(['key_value']).agg(aggfuncs1)\n",
    "    dfC = df[varsC].groupby(['key_value']).agg(aggfuncs2)\n",
    "    dfD = df.groupby(['key_value','codmes'])[varsD].sum().reset_index()\n",
    "    for i in varsD:\n",
    "        dfD[f'{i}_diff'] = dfD.groupby('key_value')[[i]].diff()\n",
    "        dfD.drop(columns=i,inplace=True)\n",
    "    dfD = dfD.drop(columns='codmes').groupby(['key_value']).agg(aggfuncs3)\n",
    "    \n",
    "    df_agg = pd.concat([dfN,dfC,dfD],axis=1)\n",
    "    df_agg.columns = [a+'_'+b for a,b in df_agg.columns]\n",
    "    return df_agg"
   ]
  },
  {
   "cell_type": "code",
   "execution_count": null,
   "metadata": {},
   "outputs": [],
   "source": [
    "%%time\n",
    "train = agg_rcc(rcc_train)\n",
    "test = agg_rcc(rcc_test)"
   ]
  },
  {
   "cell_type": "code",
   "execution_count": null,
   "metadata": {},
   "outputs": [],
   "source": [
    "diff_mean = lambda x: x.diff().mean()\n",
    "diff_mean.__name__ = 'diff_mean'"
   ]
  },
  {
   "cell_type": "code",
   "execution_count": null,
   "metadata": {},
   "outputs": [],
   "source": [
    "def product_diff(df):\n",
    "    d = df.groupby(['key_value','codmes','PRODUCTO'])[['saldo']].sum().reset_index()\n",
    "    base = pd.crosstab(d['key_value'],d['PRODUCTO'],values=d['saldo'],aggfunc=diff_mean)\n",
    "    base.columns = [f\"Prod_{v}_diff_mean\" for v in base.columns]\n",
    "    return base"
   ]
  },
  {
   "cell_type": "code",
   "execution_count": null,
   "metadata": {},
   "outputs": [],
   "source": [
    "%%time\n",
    "base_train = product_diff(rcc_train)\n",
    "base_test = product_diff(rcc_test)"
   ]
  },
  {
   "cell_type": "code",
   "execution_count": null,
   "metadata": {},
   "outputs": [],
   "source": [
    "train = train.join(base_train)\n",
    "test = test.join(base_test)\n",
    "\n",
    "del base_train, base_test\n",
    "gc.collect()"
   ]
  },
  {
   "cell_type": "code",
   "execution_count": null,
   "metadata": {},
   "outputs": [],
   "source": [
    "print(f'Train:{train.shape}\\nTest:{test.shape}')"
   ]
  },
  {
   "cell_type": "code",
   "execution_count": null,
   "metadata": {},
   "outputs": [],
   "source": [
    "def makeCt(df, c, var, aggfunc=sum):\n",
    "    try:\n",
    "        ct = pd.crosstab(df.key_value, df[c].fillna(\"N/A\"), values=df[var], aggfunc=aggfunc)\n",
    "    except:\n",
    "        ct = pd.crosstab(df.key_value, df[c], values=df[var], aggfunc=aggfunc)\n",
    "    ct.columns = [f\"{c}_{v}_{aggfunc.__name__}_{var}\" for v in ct.columns]\n",
    "    return ct"
   ]
  },
  {
   "cell_type": "code",
   "execution_count": null,
   "metadata": {},
   "outputs": [],
   "source": [
    "rcc_ct = []\n",
    "rcc_test_ct = []\n",
    "aggfuncs = [len, min, max, sum, np.mean, np.std]\n",
    "aggfuncs2 = [min, max, sum, np.mean]\n",
    "\n",
    "for c in tqdm(rcc_train.drop(columns={'codmes','key_value','saldo','condicion'}).columns):\n",
    "    print('Loading', c)\n",
    "    rcc_ct.extend([makeCt(rcc_train, c, 'saldo', aggfunc) for aggfunc in aggfuncs])\n",
    "    rcc_test_ct.extend([makeCt(rcc_test, c, 'saldo', aggfunc) for aggfunc in aggfuncs])\n",
    "    if c != 'condicion_cat':\n",
    "        rcc_ct.extend([makeCt(rcc_train, c, 'condicion', aggfunc) for aggfunc in aggfuncs2])\n",
    "        rcc_test_ct.extend([makeCt(rcc_test, c, 'condicion', aggfunc) for aggfunc in aggfuncs2])    \n",
    "    \n",
    "print('Concatenating')\n",
    "rcc_ct = pd.concat(rcc_ct, axis=1)\n",
    "rcc_test_ct = pd.concat(rcc_test_ct, axis=1)"
   ]
  },
  {
   "cell_type": "code",
   "execution_count": null,
   "metadata": {},
   "outputs": [],
   "source": [
    "train = train.join(rcc_ct)\n",
    "test = test.join(rcc_test_ct)\n",
    "\n",
    "del rcc_ct, rcc_test_ct\n",
    "gc.collect()"
   ]
  },
  {
   "cell_type": "code",
   "execution_count": null,
   "metadata": {},
   "outputs": [],
   "source": [
    "print(f'Train:{train.shape}\\nTest:{test.shape}')"
   ]
  },
  {
   "cell_type": "code",
   "execution_count": 122,
   "metadata": {},
   "outputs": [],
   "source": [
    "prods = [1, 0, 255, 2, 3, 4, 6, 8, 5, 15, 11, 7, 13]\n",
    "agg = { 'codmes':['max'],\n",
    "        'saldo':['sum','count','nunique'] }\n",
    "def do_rfm(df):\n",
    "    rfm = df[['codmes','key_value','saldo','PRODUCTO']]\n",
    "    rfm = df[df.PRODUCTO.isin(prods)].drop_duplicates()\n",
    "    rfm = rfm.groupby(['key_value','PRODUCTO']).agg(agg)\n",
    "    rfm.columns = [a+'_'+b for a,b in rfm.columns]\n",
    "\n",
    "    rfm['varSaldoRegistro'] = rfm.saldo_nunique / rfm.saldo_count\n",
    "    rfm['frecuency'] = rfm.saldo_count * (rfm.varSaldoRegistro ** 2)\n",
    "    rfm.drop(columns=['saldo_count','saldo_nunique','varSaldoRegistro'],inplace=True)\n",
    "    rfm.columns = ['recency','monetary','frecuency']\n",
    "\n",
    "    rfm.recency = rfm.recency.max() - rfm.recency\n",
    "    rfm.recency = np.where(rfm.recency>=90,rfm.recency-88,rfm.recency)\n",
    "    return rfm.reset_index().drop(columns='PRODUCTO').groupby('key_value').mean()"
   ]
  },
  {
   "cell_type": "code",
   "execution_count": 123,
   "metadata": {},
   "outputs": [],
   "source": [
    "rfm_mean = do_rfm(rcc_train)\n",
    "rfm_mean_test = do_rfm(rcc_test)"
   ]
  },
  {
   "cell_type": "code",
   "execution_count": 140,
   "metadata": {},
   "outputs": [
    {
     "data": {
      "text/plain": [
       "20"
      ]
     },
     "execution_count": 140,
     "metadata": {},
     "output_type": "execute_result"
    }
   ],
   "source": [
    "train = train.join(rfm_mean)\n",
    "test = test.join(rfm_mean_test)\n",
    "\n",
    "del rfm_mean, rfm_mean_test, rcc_train, rcc_test\n",
    "gc.collect()"
   ]
  },
  {
   "cell_type": "markdown",
   "metadata": {},
   "source": [
    "## Add SocioEconomic data"
   ]
  },
  {
   "cell_type": "code",
   "execution_count": null,
   "metadata": {},
   "outputs": [],
   "source": [
    "varsN = ['edad','ctd_hijos','ctd_veh']\n",
    "varsC = ['sexo','est_cvl','sit_lab','cod_ocu','flg_sin_email','cod_ubi','lgr_vot','prv','dto','rgn','tip_lvledu']"
   ]
  },
  {
   "cell_type": "code",
   "execution_count": null,
   "metadata": {},
   "outputs": [],
   "source": [
    "diferent_vals_cat(se_train,se_test,'dto')"
   ]
  },
  {
   "cell_type": "code",
   "execution_count": 124,
   "metadata": {
    "scrolled": true
   },
   "outputs": [],
   "source": [
    "def impCod_ubi(df):\n",
    "    cod_ubi_imp = df[pd.isnull(df.cod_ubi)]\n",
    "    for x in cod_ubi_imp.lgr_vot.unique():\n",
    "        busc = df[df.lgr_vot==x].groupby(['prv','dto']).agg('mean').reset_index()\n",
    "        idx = cod_ubi_imp[cod_ubi_imp.lgr_vot==x].index\n",
    "        for y in idx:\n",
    "            prov = df.loc[y].prv\n",
    "            dep = df.loc[y].dto\n",
    "            val = busc[(busc.prv==prov)&(busc.dto==dep)].cod_ubi.values[0]        \n",
    "            if pd.isnull(val):\n",
    "                val = busc[(busc.dto==dep)].cod_ubi.mean()\n",
    "                if pd.isnull(val):\n",
    "                    val = busc[(busc.prv==prov)].cod_ubi.mean()\n",
    "                    if pd.isnull(val):\n",
    "                        val = busc.cod_ubi.mean()\n",
    "            df.loc[y,'cod_ubi'] = val"
   ]
  },
  {
   "cell_type": "code",
   "execution_count": 125,
   "metadata": {},
   "outputs": [],
   "source": [
    "impCod_ubi(se_train)\n",
    "impCod_ubi(se_test)"
   ]
  },
  {
   "cell_type": "code",
   "execution_count": 126,
   "metadata": {},
   "outputs": [],
   "source": [
    "def impEdad(df):\n",
    "    imp = IterativeImputer(max_iter=10, random_state=0)\n",
    "    #imp.fit(df.drop(columns={'cod_ubi','lgr_vot','prv','dto','rgn'}))\n",
    "    imp.fit(df)\n",
    "    edad_null = df[pd.isnull(df.edad)]\n",
    "    df.loc[edad_null.index,'edad'] = imp.transform(edad_null)[:,0]"
   ]
  },
  {
   "cell_type": "code",
   "execution_count": 127,
   "metadata": {},
   "outputs": [],
   "source": [
    "impEdad(se_train)\n",
    "impEdad(se_test)"
   ]
  },
  {
   "cell_type": "code",
   "execution_count": null,
   "metadata": {},
   "outputs": [],
   "source": [
    "train = train.join(se_train)\n",
    "test = test.join(se_test)"
   ]
  },
  {
   "cell_type": "code",
   "execution_count": null,
   "metadata": {},
   "outputs": [],
   "source": [
    "print(f'Train:{train.shape}\\nTest:{test.shape}')"
   ]
  },
  {
   "cell_type": "markdown",
   "metadata": {},
   "source": [
    "## Add Tributary data"
   ]
  },
  {
   "cell_type": "code",
   "execution_count": null,
   "metadata": {},
   "outputs": [],
   "source": [
    "sunat_train['tiempo'] = sunat_train.fecbaja - sunat_train.fecalta\n",
    "sunat_test['tiempo'] = sunat_test.fecbaja - sunat_test.fecalta\n",
    "\n",
    "sunat_train['activo'] = np.where(pd.isnull(sunat_train.fecbaja),1,0)\n",
    "sunat_test['activo'] = np.where(pd.isnull(sunat_test.fecbaja),1,0)\n",
    "\n",
    "sunat_train['fecbaja_act'] = sunat_train['fecbaja'].replace(np.nan,sunat_train['fecbaja'].max())\n",
    "sunat_test['fecbaja_act'] = sunat_test['fecbaja'].replace(np.nan,sunat_test['fecbaja'].max())\n",
    "\n",
    "sunat_train['tiempo_tot'] = sunat_train.fecbaja_act - sunat_train.fecalta\n",
    "sunat_test['tiempo_tot'] = sunat_test.fecbaja_act - sunat_test.fecalta"
   ]
  },
  {
   "cell_type": "code",
   "execution_count": null,
   "metadata": {},
   "outputs": [],
   "source": [
    "varsN = ['fecalta','fecbaja','tiempo','fecbaja_act','tiempo_tot','key_value']\n",
    "varsC = ['tipcontribuyente','tippersona','ciiu','ubigeo','condiciondomicilio',\n",
    "         'estadocontribuyente','codvia','codzona','contabilidad','facturacion',\n",
    "        'domiciliado','comercioexterior','cargorele','codentidadtributo','estadotributo','key_value']#,'activo'"
   ]
  },
  {
   "cell_type": "code",
   "execution_count": null,
   "metadata": {},
   "outputs": [],
   "source": [
    "diferent_vals_cat(sunat_train,sunat_test,'ciiu')"
   ]
  },
  {
   "cell_type": "code",
   "execution_count": null,
   "metadata": {},
   "outputs": [],
   "source": [
    "def agg_sunat(df):\n",
    "    global varsN\n",
    "    global varsC\n",
    "    \n",
    "    aggfuncs1 = {'fecalta':['min'],'fecbaja_act':['max'],'tiempo_tot':['sum']}\n",
    "    aggfuncs2 = [moda,'nunique']\n",
    "    aggfuncs3 = {'activo':['max']}\n",
    "    \n",
    "    dfN = df[varsN].drop_duplicates().groupby(['key_value']).agg(aggfuncs1)\n",
    "    dfC = df[varsC].groupby(['key_value']).agg(aggfuncs2)#.remove('activo')\n",
    "    dfA = df.groupby(['key_value','ciiu']).agg(aggfuncs3)\n",
    "    dfA = dfA.groupby(['key_value']).sum()\n",
    "    \n",
    "    df_agg = pd.concat([dfN,dfC,dfA],axis=1)\n",
    "    df_agg.columns = [a+'_'+b for a,b in df_agg.columns]\n",
    "    df_agg['tiempo_est'] = df_agg.fecbaja_act_max - df_agg.fecalta_min\n",
    "    df_agg.rename(columns={'activo_max':'activoXciiu_max','tiempo_tot_sum':'tiempo_tot_efec'},inplace=True)\n",
    "    return df_agg"
   ]
  },
  {
   "cell_type": "code",
   "execution_count": null,
   "metadata": {},
   "outputs": [],
   "source": [
    "%%time\n",
    "sunat_agg = agg_sunat(sunat_train)\n",
    "sunat_test_agg = agg_sunat(sunat_test)"
   ]
  },
  {
   "cell_type": "code",
   "execution_count": null,
   "metadata": {},
   "outputs": [],
   "source": [
    "train = train.join(sunat_agg)\n",
    "test = test.join(sunat_test_agg)\n",
    "\n",
    "del sunat_agg, sunat_test_agg\n",
    "gc.collect()"
   ]
  },
  {
   "cell_type": "code",
   "execution_count": null,
   "metadata": {},
   "outputs": [],
   "source": [
    "print(f'Train:{train.shape}\\nTest:{test.shape}')"
   ]
  },
  {
   "cell_type": "code",
   "execution_count": null,
   "metadata": {},
   "outputs": [],
   "source": [
    "ciiu_train = pd.crosstab(sunat_train.key_value, sunat_train.ciiu)\n",
    "ciiu_test = pd.crosstab(sunat_test.key_value, sunat_test.ciiu)\n",
    "\n",
    "ciiu_train.columns = [f'ciiu_{c}' for c in ciiu_train.columns]\n",
    "ciiu_test.columns = [f'ciiu_{c}' for c in ciiu_test.columns]"
   ]
  },
  {
   "cell_type": "code",
   "execution_count": null,
   "metadata": {},
   "outputs": [],
   "source": [
    "train = train.join(ciiu_train)\n",
    "test = test.join(ciiu_test)\n",
    "\n",
    "del ciiu_train, ciiu_test, #sunat_train, sunat_test\n",
    "gc.collect()"
   ]
  },
  {
   "cell_type": "code",
   "execution_count": null,
   "metadata": {},
   "outputs": [],
   "source": [
    "print(f'Train:{train.shape}\\nTest:{test.shape}')"
   ]
  },
  {
   "cell_type": "markdown",
   "metadata": {},
   "source": [
    "## Add Censo data"
   ]
  },
  {
   "cell_type": "code",
   "execution_count": null,
   "metadata": {},
   "outputs": [],
   "source": [
    "censo_train = pd.read_csv('data/censo_train.csv',index_col='key_value')\n",
    "censo_test = pd.read_csv('data/censo_test.csv',index_col='key_value')\n",
    "censo_train.drop_duplicates(inplace=True)\n",
    "censo_test.drop_duplicates(inplace=True)"
   ]
  },
  {
   "cell_type": "code",
   "execution_count": 130,
   "metadata": {},
   "outputs": [],
   "source": [
    "def rmv_sunat(df):\n",
    "    df['pob_a_utilidad'] = df.iloc[:,20]#-df.iloc[:,21:29].sum(axis=1)\n",
    "    df['pob_b_utilidad'] = df.iloc[:,29]#-df.iloc[:,30:38].sum(axis=1)\n",
    "    df['pob_c_utilidad'] = df.iloc[:,38]#-df.iloc[:,39:47].sum(axis=1)\n",
    "    df['pob_d_utilidad'] = df.iloc[:,47]#-df.iloc[:,48:56].sum(axis=1)\n",
    "    df['pob_e_utilidad'] = df.iloc[:,56]#-df.iloc[:,57:65].sum(axis=1)\n",
    "    df['pob_utilidad'] = df.iloc[:,65]-df.iloc[:,66:74].sum(axis=1)\n",
    "    df.drop(df.iloc[:,20:74].columns,axis=1,inplace=True)"
   ]
  },
  {
   "cell_type": "code",
   "execution_count": 131,
   "metadata": {},
   "outputs": [],
   "source": [
    "rmv_sunat(censo_train)\n",
    "rmv_sunat(censo_test)"
   ]
  },
  {
   "cell_type": "code",
   "execution_count": 132,
   "metadata": {},
   "outputs": [
    {
     "data": {
      "text/plain": [
       "60"
      ]
     },
     "execution_count": 132,
     "metadata": {},
     "output_type": "execute_result"
    }
   ],
   "source": [
    "censose = censo_train.join(se_train)\n",
    "censose_test = censo_test.join(se_test)\n",
    "\n",
    "del se_train, se_test\n",
    "gc.collect()"
   ]
  },
  {
   "cell_type": "code",
   "execution_count": 133,
   "metadata": {},
   "outputs": [],
   "source": [
    "def agg_censo_by_dto(df,var):\n",
    "    df_agg = df.groupby('dto').mean()\n",
    "    df_agg = df_agg.filter(regex=var)\n",
    "    if var == 'pob':\n",
    "        df_agg['punt_utilidad'] = df_agg.pob_a*df_agg.pob_a_utilidad + df_agg.pob_b*df_agg.pob_b_utilidad + df_agg.pob_c*df_agg.pob_c_utilidad + df_agg.pob_d*df_agg.pob_d_utilidad + df_agg.pob_e*df_agg.pob_e_utilidad\n",
    "        #df_agg['punt_utilidad'] = df_agg['punt_utilidad']/df_agg['pob']\n",
    "    return df_agg.reset_index()"
   ]
  },
  {
   "cell_type": "code",
   "execution_count": 134,
   "metadata": {},
   "outputs": [],
   "source": [
    "nse_dto = agg_censo_by_dto(censose,'pob')\n",
    "nse_dto_test = agg_censo_by_dto(censose_test,'pob')"
   ]
  },
  {
   "cell_type": "code",
   "execution_count": null,
   "metadata": {},
   "outputs": [],
   "source": [
    "corr_plot(nse_dto.set_index('dto').corr())"
   ]
  },
  {
   "cell_type": "code",
   "execution_count": null,
   "metadata": {},
   "outputs": [],
   "source": [
    "from sklearn.decomposition import PCA\n",
    "pca = PCA(n_components=2)\n",
    "nse_dto.set_index('dto',inplace=True)\n",
    "idx = nse_dto.index\n",
    "nse_dto = pca.fit_transform(nse_dto)\n",
    "nse_dto = pd.DataFrame(nse_dto,columns=['Comp1','Comp2'],index=idx)\n",
    "nse_dto.reset_index(inplace=True)\n",
    "print(pca.explained_variance_ratio_)\n",
    "\n",
    "nse_dto_test.set_index('dto',inplace=True)\n",
    "idx = nse_dto_test.index\n",
    "nse_dto_test = pca.fit_transform(nse_dto_test)\n",
    "nse_dto_test = pd.DataFrame(nse_dto_test,columns=['Comp1','Comp2'],index=idx)\n",
    "nse_dto_test.reset_index(inplace=True)\n",
    "print(pca.explained_variance_ratio_)"
   ]
  },
  {
   "cell_type": "code",
   "execution_count": 135,
   "metadata": {},
   "outputs": [
    {
     "data": {
      "text/plain": [
       "0"
      ]
     },
     "execution_count": 135,
     "metadata": {},
     "output_type": "execute_result"
    }
   ],
   "source": [
    "train = train.merge(nse_dto,on='dto',how='left')\n",
    "test = test.merge(nse_dto_test,on='dto',how='left')\n",
    "\n",
    "del nse_dto, nse_dto_test\n",
    "gc.collect()"
   ]
  },
  {
   "cell_type": "code",
   "execution_count": null,
   "metadata": {},
   "outputs": [],
   "source": [
    "print(f'Train:{train.shape}\\nTest:{test.shape}')"
   ]
  },
  {
   "cell_type": "code",
   "execution_count": null,
   "metadata": {},
   "outputs": [],
   "source": [
    "from sklearn.cluster import AgglomerativeClustering\n",
    "nse_dto = nse_dto.set_index('dto')\n",
    "model = AgglomerativeClustering(n_clusters=7, affinity='euclidean', linkage='ward')\n",
    "model.fit(nse_dto)\n",
    "nse_dto['label'] = model.labels_\n",
    "\n",
    "fig, ax = plt.subplots(figsize=(15,8))\n",
    "sns.scatterplot(data=nse_dto,x='Comp1',y='Comp2',hue='label');"
   ]
  },
  {
   "cell_type": "code",
   "execution_count": null,
   "metadata": {},
   "outputs": [],
   "source": []
  },
  {
   "cell_type": "code",
   "execution_count": 136,
   "metadata": {},
   "outputs": [],
   "source": [
    "ocup_dto = agg_censo_by_dto(censose,'ocup')\n",
    "ocup_dto_test = agg_censo_by_dto(censose_test,'ocup')"
   ]
  },
  {
   "cell_type": "code",
   "execution_count": null,
   "metadata": {},
   "outputs": [],
   "source": [
    "corr_plot(ocup_dto.set_index('dto').corr())"
   ]
  },
  {
   "cell_type": "code",
   "execution_count": null,
   "metadata": {},
   "outputs": [],
   "source": [
    "from sklearn.decomposition import PCA\n",
    "pca = PCA(n_components=2)\n",
    "ocup_dto.set_index('dto',inplace=True)\n",
    "idx = ocup_dto.index\n",
    "ocup_dto = pca.fit_transform(ocup_dto)\n",
    "ocup_dto = pd.DataFrame(ocup_dto,columns=['Comp1','Comp2'],index=idx)\n",
    "ocup_dto.reset_index(inplace=True)\n",
    "print(pca.explained_variance_ratio_)\n",
    "\n",
    "ocup_dto_test.set_index('dto',inplace=True)\n",
    "idx = ocup_dto_test.index\n",
    "ocup_dto_test = pca.fit_transform(ocup_dto_test)\n",
    "ocup_dto_test = pd.DataFrame(ocup_dto_test,columns=['Comp1','Comp2'],index=idx)\n",
    "ocup_dto_test.reset_index(inplace=True)\n",
    "print(pca.explained_variance_ratio_)"
   ]
  },
  {
   "cell_type": "code",
   "execution_count": 137,
   "metadata": {},
   "outputs": [
    {
     "data": {
      "text/plain": [
       "40"
      ]
     },
     "execution_count": 137,
     "metadata": {},
     "output_type": "execute_result"
    }
   ],
   "source": [
    "train = train.merge(ocup_dto,on='dto',how='left').set_index('key_value')\n",
    "test = test.merge(ocup_dto_test,on='dto',how='left').set_index('key_value')\n",
    "\n",
    "del ocup_dto, ocup_dto_test\n",
    "gc.collect()"
   ]
  },
  {
   "cell_type": "code",
   "execution_count": 138,
   "metadata": {},
   "outputs": [
    {
     "name": "stdout",
     "output_type": "stream",
     "text": [
      "Train:(358487, 1060)\n",
      "Test:(396666, 1060)\n"
     ]
    }
   ],
   "source": [
    "print(f'Train:{train.shape}\\nTest:{test.shape}')"
   ]
  },
  {
   "cell_type": "code",
   "execution_count": null,
   "metadata": {},
   "outputs": [],
   "source": []
  },
  {
   "cell_type": "code",
   "execution_count": null,
   "metadata": {},
   "outputs": [],
   "source": [
    "for i in range(0,7):\n",
    "    print(f'Pred {i}: {censo_train[censo_train.pred==i].shape[0]/censo_train.shape[0]}')"
   ]
  },
  {
   "cell_type": "code",
   "execution_count": null,
   "metadata": {},
   "outputs": [],
   "source": [
    "for i in censo_train.flag_censo.unique():\n",
    "    print(f'Pred {i}: {censo_train[censo_train.flag_censo==i].shape[0]/censo_train.shape[0]}')"
   ]
  },
  {
   "cell_type": "code",
   "execution_count": null,
   "metadata": {},
   "outputs": [],
   "source": [
    "fig, ax = plt.subplots(figsize=(10,10))\n",
    "sns.scatterplot(data=censose,x='lon_x',y='lat_y',hue='pred',ax=ax);"
   ]
  },
  {
   "cell_type": "markdown",
   "metadata": {},
   "source": [
    "## Removing different columns"
   ]
  },
  {
   "cell_type": "code",
   "execution_count": null,
   "metadata": {},
   "outputs": [],
   "source": [
    "keep_cols = list(set(train.columns).intersection(set(test.columns)))\n",
    "train = train[keep_cols]\n",
    "test = test[keep_cols]\n",
    "len(set(train.columns) - set(test.columns)) , len(set(test.columns) - set(train.columns))"
   ]
  },
  {
   "cell_type": "code",
   "execution_count": null,
   "metadata": {},
   "outputs": [],
   "source": [
    "train.columns = [str(c) for c in train.columns]\n",
    "train = train.rename(columns = lambda x:re.sub('[^A-Za-z0-9_-]+', '', x))\n",
    "\n",
    "test.columns = [str(c) for c in test.columns]\n",
    "test = test.rename(columns = lambda x:re.sub('[^A-Za-z0-9_-]+', '', x))"
   ]
  },
  {
   "cell_type": "code",
   "execution_count": null,
   "metadata": {},
   "outputs": [],
   "source": [
    "print(f'Train:{train.shape}\\nTest:{test.shape}')"
   ]
  },
  {
   "cell_type": "code",
   "execution_count": 139,
   "metadata": {},
   "outputs": [
    {
     "name": "stdout",
     "output_type": "stream",
     "text": [
      "CPU times: user 5min 17s, sys: 9.31 s, total: 5min 26s\n",
      "Wall time: 5min 32s\n"
     ]
    }
   ],
   "source": [
    "%%time\n",
    "train.reset_index().to_csv('data/train.csv')\n",
    "test.reset_index().to_csv('data/test.csv')"
   ]
  },
  {
   "cell_type": "code",
   "execution_count": null,
   "metadata": {},
   "outputs": [],
   "source": []
  },
  {
   "cell_type": "code",
   "execution_count": 129,
   "metadata": {},
   "outputs": [],
   "source": [
    "train = pd.read_csv('data/train.csv')\n",
    "test = pd.read_csv('data/test.csv')\n",
    "train = train.iloc[:,1:].set_index('key_value')\n",
    "test = test.iloc[:,1:].set_index('key_value')"
   ]
  },
  {
   "cell_type": "markdown",
   "metadata": {},
   "source": [
    "## Target Encoding"
   ]
  },
  {
   "cell_type": "code",
   "execution_count": null,
   "metadata": {},
   "outputs": [],
   "source": [
    "varsEnco = ['tippersona_moda','estadocontribuyente_moda','codzona_moda','tipcontribuyente_moda',\n",
    "         'contabilidad_moda','facturacion_moda','domiciliado_moda','ubigeo_moda','codentidadtributo_moda',\n",
    "         'ciiu_moda', 'condiciondomicilio_moda', 'estadotributo_moda','tipo_credito_moda',\n",
    "         'COD_CLASIFICACION_DEUDOR_moda', 'PRODUCTO_moda','cargorele_moda','cod_instit_financiera_moda',\n",
    "         'RIESGO_DIRECTO_moda','codvia_moda','comercioexterior_moda','condicion_cat_moda',\n",
    "         'sexo','est_cvl','sit_lab','cod_ocu','flg_sin_email','cod_ubi','lgr_vot','prv','dto',\n",
    "         'rgn','tip_lvledu']"
   ]
  },
  {
   "cell_type": "code",
   "execution_count": null,
   "metadata": {},
   "outputs": [],
   "source": [
    "varsEnco = ['PRODUCTO_moda','COD_CLASIFICACION_DEUDOR_moda','cod_instit_financiera_moda',\n",
    "             'sit_lab','cod_ubi','dto','ubigeo_moda','prv','condicion_cat_moda','lgr_vot',\n",
    "             'ciiu_moda','tip_lvledu','rgn']"
   ]
  },
  {
   "cell_type": "code",
   "execution_count": null,
   "metadata": {},
   "outputs": [],
   "source": [
    "varsEnco = ['PRODUCTO_moda','COD_CLASIFICACION_DEUDOR_moda','cod_instit_financiera_moda',\n",
    "            'ciiu_moda','sit_lab','cod_ubi','condicion_cat_moda']"
   ]
  },
  {
   "cell_type": "code",
   "execution_count": null,
   "metadata": {},
   "outputs": [],
   "source": [
    "iv_dict = {}\n",
    "for i in varsEnco:\n",
    "    df = calculate_woe(train[varsEnco].join(y_train),i)\n",
    "    iv_dict[i] = df.iv.sum()\n",
    "iv_dict = {k: v for k, v in sorted(iv_dict.items(), key=lambda i: i[1], reverse=True)}\n",
    "iv_dict"
   ]
  },
  {
   "cell_type": "code",
   "execution_count": null,
   "metadata": {},
   "outputs": [],
   "source": [
    "#encoder = ce.GLMMEncoder(cols=varsEnco)\n",
    "encoder = ce.CatBoostEncoder(cols=varsEnco)\n",
    "#encoder = ce.BackwardDifferenceEncoder(cols=varsEnco)\n",
    "#encoder = ce.HashingEncoder(cols=varsEnco)\n",
    "encoder = ce.HelmertEncoder(cols=varsEnco)\n",
    "encoder = ce.JamesSteinEncoder(cols=varsEnco)\n",
    "encoder = ce.LeaveOneOutEncoder(cols=varsEnco)\n",
    "#encoder = ce.SumEncoder(cols=varsEnco)\n",
    "encoder = ce.TargetEncoder(cols=varsEnco)\n",
    "encoder = ce.WOEEncoder(cols=varsEnco)"
   ]
  },
  {
   "cell_type": "code",
   "execution_count": null,
   "metadata": {},
   "outputs": [],
   "source": [
    "def mean_encoding(data,columnas,tipo=1):\n",
    "    X=data.copy()\n",
    "    for i in columnas:\n",
    "        if tipo==1:\n",
    "            target_sum = X.groupby(i)['target'].transform('sum')\n",
    "            n_objects = X.groupby(i)['target'].transform('count')\n",
    "            X[i] = (target_sum - X['target']) / (n_objects - 1)\n",
    "        else:\n",
    "            cumsum = X.groupby(i)['target'].cumsum() - X['target']\n",
    "            cumcnt = X.groupby(i).cumcount()\n",
    "            X[i] = cumsum / cumcnt\n",
    "        media_target = X.target.mean()\n",
    "        X[i].fillna(media_target, inplace=True)\n",
    "    return X"
   ]
  },
  {
   "cell_type": "code",
   "execution_count": null,
   "metadata": {},
   "outputs": [],
   "source": []
  },
  {
   "cell_type": "code",
   "execution_count": 142,
   "metadata": {},
   "outputs": [
    {
     "data": {
      "text/plain": [
       "0"
      ]
     },
     "execution_count": 142,
     "metadata": {},
     "output_type": "execute_result"
    }
   ],
   "source": [
    "import category_encoders as ce\n",
    "from sklearn.model_selection import KFold, StratifiedKFold\n",
    "\n",
    "varsEnco = ['PRODUCTO_moda','COD_CLASIFICACION_DEUDOR_moda','cod_instit_financiera_moda',\n",
    "            'ciiu_moda']\n",
    "\n",
    "encoder = ce.WOEEncoder(cols=varsEnco)\n",
    "encoder.fit(train,y_train)\n",
    "test = encoder.transform(test)\n",
    "\n",
    "#folds = [train.index[t] for t, v in KFold(5).split(train)]\n",
    "folds = [train.index[t] for t, v in StratifiedKFold(n_splits=5,shuffle=True,random_state=0).split(train,y_train)]\n",
    "\n",
    "nuevo = pd.DataFrame()\n",
    "for i, idx in enumerate(folds):\n",
    "    Xt = train.loc[idx] \n",
    "    Xv = train.drop(Xt.index)\n",
    "    yt, yv = y_train.loc[Xt.index], y_train.loc[Xv.index]\n",
    "\n",
    "    encoder = ce.WOEEncoder(cols=varsEnco)\n",
    "    Xt = encoder.fit_transform(Xt,yt) \n",
    "    Xv = encoder.transform(Xv)\n",
    "    nuevo = pd.concat([nuevo,Xv])\n",
    "train = nuevo.copy()\n",
    "\n",
    "del nuevo\n",
    "gc.collect()"
   ]
  },
  {
   "cell_type": "markdown",
   "metadata": {},
   "source": [
    "## Training & Testing the model"
   ]
  },
  {
   "cell_type": "code",
   "execution_count": 143,
   "metadata": {},
   "outputs": [],
   "source": [
    "from lightgbm import LGBMClassifier\n",
    "from xgboost import XGBClassifier\n",
    "from catboost import CatBoostClassifier\n",
    "from sklearn.experimental import enable_hist_gradient_boosting\n",
    "from sklearn.ensemble import HistGradientBoostingClassifier\n",
    "\n",
    "from sklearn.model_selection import KFold, ParameterGrid"
   ]
  },
  {
   "cell_type": "code",
   "execution_count": 144,
   "metadata": {},
   "outputs": [],
   "source": [
    "def plotImp(model, X , num = 20):\n",
    "    feature_imp = pd.DataFrame({'Value':model.feature_importances_,'Feature':X.columns})\n",
    "    feature_imp = feature_imp.sort_values(by=\"Value\", ascending=False)[0:num]\n",
    "    plt.figure(figsize=(10, 5))\n",
    "    sns.barplot(x=\"Value\", y=\"Feature\", data=feature_imp)\n",
    "    plt.show()\n",
    "    #return feature_imp"
   ]
  },
  {
   "cell_type": "code",
   "execution_count": null,
   "metadata": {},
   "outputs": [],
   "source": [
    "nulls = train.isna().sum().to_frame('nulos').sort_values('nulos',ascending=False)\n",
    "nulls['nulos'] = nulls.nulos/train.shape[0]*100"
   ]
  },
  {
   "cell_type": "code",
   "execution_count": 218,
   "metadata": {},
   "outputs": [
    {
     "data": {
      "text/plain": [
       "Index(['PRODUCTO_41_max_condicion', 'PRODUCTO_40_min_condicion',\n",
       "       'PRODUCTO_40_min_saldo', 'Prod_33_diff_mean',\n",
       "       'PRODUCTO_41_sum_condicion', 'PRODUCTO_41_min_condicion',\n",
       "       'PRODUCTO_41_mean_condicion', 'PRODUCTO_41_max_saldo',\n",
       "       'PRODUCTO_40_len_saldo', 'PRODUCTO_40_max_saldo',\n",
       "       ...\n",
       "       'PRODUCTO_13_std_saldo', 'PRODUCTO_9_mean_saldo',\n",
       "       'PRODUCTO_9_max_saldo', 'PRODUCTO_9_max_condicion',\n",
       "       'PRODUCTO_9_min_saldo', 'PRODUCTO_9_len_saldo',\n",
       "       'PRODUCTO_9_min_condicion', 'PRODUCTO_9_mean_condicion',\n",
       "       'PRODUCTO_9_sum_condicion', 'PRODUCTO_9_sum_saldo'],\n",
       "      dtype='object', length=457)"
      ]
     },
     "execution_count": 218,
     "metadata": {},
     "output_type": "execute_result"
    }
   ],
   "source": [
    "cols = nulls[nulls.nulos>=90].index\n",
    "cols"
   ]
  },
  {
   "cell_type": "code",
   "execution_count": 220,
   "metadata": {},
   "outputs": [],
   "source": [
    "train = train.drop(columns=cols)\n",
    "test = test.drop(columns=cols)"
   ]
  },
  {
   "cell_type": "markdown",
   "metadata": {},
   "source": [
    "### LightGBM"
   ]
  },
  {
   "cell_type": "code",
   "execution_count": 221,
   "metadata": {},
   "outputs": [],
   "source": [
    "params = ParameterGrid({'num_leaves':[50],'learning_rate':[0.05]})"
   ]
  },
  {
   "cell_type": "code",
   "execution_count": 222,
   "metadata": {},
   "outputs": [
    {
     "name": "stdout",
     "output_type": "stream",
     "text": [
      "********** learning_rate=0.05///num_leaves=50 **********\n"
     ]
    },
    {
     "data": {
      "application/vnd.jupyter.widget-view+json": {
       "model_id": "24b845d4b6ca45518e43e2583fc35f09",
       "version_major": 2,
       "version_minor": 0
      },
      "text/plain": [
       "|          | 0/? [00:00<?, ?it/s]"
      ]
     },
     "metadata": {},
     "output_type": "display_data"
    },
    {
     "ename": "ValueError",
     "evalue": "Number of features of the model must match the input. Model n_features_ is 610 and input n_features is 606 ",
     "output_type": "error",
     "traceback": [
      "\u001b[0;31m---------------------------------------------------------------------------\u001b[0m",
      "\u001b[0;31mValueError\u001b[0m                                Traceback (most recent call last)",
      "\u001b[0;32m<timed exec>\u001b[0m in \u001b[0;36m<module>\u001b[0;34m\u001b[0m\n",
      "\u001b[0;32m/opt/anaconda3/envs/data_science/lib/python3.7/site-packages/lightgbm/sklearn.py\u001b[0m in \u001b[0;36mpredict_proba\u001b[0;34m(self, X, raw_score, start_iteration, num_iteration, pred_leaf, pred_contrib, **kwargs)\u001b[0m\n\u001b[1;32m    902\u001b[0m         \"\"\"\n\u001b[1;32m    903\u001b[0m         result = super(LGBMClassifier, self).predict(X, raw_score, start_iteration, num_iteration,\n\u001b[0;32m--> 904\u001b[0;31m                                                      pred_leaf, pred_contrib, **kwargs)\n\u001b[0m\u001b[1;32m    905\u001b[0m         \u001b[0;32mif\u001b[0m \u001b[0mcallable\u001b[0m\u001b[0;34m(\u001b[0m\u001b[0mself\u001b[0m\u001b[0;34m.\u001b[0m\u001b[0m_objective\u001b[0m\u001b[0;34m)\u001b[0m \u001b[0;32mand\u001b[0m \u001b[0;32mnot\u001b[0m \u001b[0;34m(\u001b[0m\u001b[0mraw_score\u001b[0m \u001b[0;32mor\u001b[0m \u001b[0mpred_leaf\u001b[0m \u001b[0;32mor\u001b[0m \u001b[0mpred_contrib\u001b[0m\u001b[0;34m)\u001b[0m\u001b[0;34m:\u001b[0m\u001b[0;34m\u001b[0m\u001b[0;34m\u001b[0m\u001b[0m\n\u001b[1;32m    906\u001b[0m             warnings.warn(\"Cannot compute class probabilities or labels \"\n",
      "\u001b[0;32m/opt/anaconda3/envs/data_science/lib/python3.7/site-packages/lightgbm/sklearn.py\u001b[0m in \u001b[0;36mpredict\u001b[0;34m(self, X, raw_score, start_iteration, num_iteration, pred_leaf, pred_contrib, **kwargs)\u001b[0m\n\u001b[1;32m    665\u001b[0m                              \u001b[0;34m\"match the input. Model n_features_ is %s and \"\u001b[0m\u001b[0;34m\u001b[0m\u001b[0;34m\u001b[0m\u001b[0m\n\u001b[1;32m    666\u001b[0m                              \u001b[0;34m\"input n_features is %s \"\u001b[0m\u001b[0;34m\u001b[0m\u001b[0;34m\u001b[0m\u001b[0m\n\u001b[0;32m--> 667\u001b[0;31m                              % (self._n_features, n_features))\n\u001b[0m\u001b[1;32m    668\u001b[0m         return self._Booster.predict(X, raw_score=raw_score, start_iteration=start_iteration, num_iteration=num_iteration,\n\u001b[1;32m    669\u001b[0m                                      pred_leaf=pred_leaf, pred_contrib=pred_contrib, **kwargs)\n",
      "\u001b[0;31mValueError\u001b[0m: Number of features of the model must match the input. Model n_features_ is 610 and input n_features is 606 "
     ]
    }
   ],
   "source": [
    "%%time\n",
    "best_score = 0\n",
    "best_probs = []\n",
    "for param in params:\n",
    "    test_probs = []\n",
    "    train_probs = []\n",
    "    p  = '///'.join([f'{k}={v}' for k, v in param.items()])\n",
    "    print('*'*10, p, '*'*10)\n",
    "    for i, idx in tqdm(enumerate(folds)):\n",
    "        Xt = train.loc[idx] \n",
    "        Xv = train.drop(Xt.index)\n",
    "        yt, yv = y_train.loc[Xt.index], y_train.loc[Xv.index]\n",
    "        \n",
    "        learner = LGBMClassifier(n_estimators=2000,objective='binary',metric='auc',\n",
    "                                 min_child_samples=1250,**param)#learning_rate=0.05,\n",
    "        learner.fit(Xt,yt, early_stopping_rounds=20,eval_metric='auc',eval_set=[(Xt,yt),(Xv,yv)],verbose=False)\n",
    "        test_probs.append(pd.Series(learner.predict_proba(test)[:, -1], index=test.index, name='fold_' + str(i)))\n",
    "        train_probs.append(pd.Series(learner.predict_proba(Xv)[:, -1], index=Xv.index, name='probs'))\n",
    "\n",
    "    test_probs = pd.concat(test_probs, axis=1).mean(axis=1)\n",
    "    train_probs = pd.concat(train_probs)\n",
    "    score = roc_auc_score(y_train, train_probs.loc[y_train.index])\n",
    "    print(f'roc auc estimado: {score}\\nbest iteration: {learner.best_iteration_}')\n",
    "    if score > best_score:\n",
    "        print('*'*10, f'{p} es el nuevo mejor modelo', '*'*10)\n",
    "        best_score = score\n",
    "        best_probs = test_probs"
   ]
  },
  {
   "cell_type": "code",
   "execution_count": null,
   "metadata": {},
   "outputs": [],
   "source": [
    "import shap\n",
    "\n",
    "explainer = shap.TreeExplainer(learner)\n",
    "shap_values = explainer.shap_values(train)\n",
    "shap.force_plot(explainer.expected_value[1], shap_values[1][0,:], X_display.iloc[0,:])"
   ]
  },
  {
   "cell_type": "code",
   "execution_count": 199,
   "metadata": {},
   "outputs": [
    {
     "data": {
      "image/png": "[encoded data removed]",
      "text/plain": [
       "<Figure size 720x360 with 1 Axes>"
      ]
     },
     "metadata": {},
     "output_type": "display_data"
    }
   ],
   "source": [
    "plotImp(learner,train,num=20)\n",
    "#features = features.Feature.tolist()\n",
    "#train = train[features]\n",
    "#test = test[features]"
   ]
  },
  {
   "cell_type": "code",
   "execution_count": null,
   "metadata": {},
   "outputs": [],
   "source": [
    "%%time\n",
    "best_score = 0\n",
    "best_probs = []\n",
    "for param in params:\n",
    "    test_probs = []\n",
    "    train_probs = []\n",
    "    p  = '///'.join([f'{k}={v}' for k, v in param.items()])\n",
    "    print('*'*10, p, '*'*10)\n",
    "    for i, idx in tqdm(enumerate(folds)):\n",
    "        Xt = train.loc[idx] \n",
    "        Xv = train.drop(Xt.index)\n",
    "        yt, yv = y_train.loc[Xt.index], y_train.loc[Xv.index]\n",
    "\n",
    "        learner = LGBMClassifier(n_estimators=1500,n_jobs=-1,**param)#is_unbalance=True\n",
    "        learner.fit(Xt,yt, early_stopping_rounds=20,eval_metric='auc',\n",
    "                    eval_set=[(Xt,yt),(Xv,yv)],verbose=False)\n",
    "        test_probs.append(pd.Series(learner.predict_proba(test)[:, -1], index=test.index, name='fold_' + str(i)))\n",
    "        train_probs.append(pd.Series(learner.predict_proba(Xv)[:, -1], index=Xv.index, name='probs'))\n",
    "\n",
    "    test_probs = pd.concat(test_probs, axis=1).mean(axis=1)\n",
    "    train_probs = pd.concat(train_probs)\n",
    "    score = roc_auc_score(y_train, train_probs.loc[y_train.index])\n",
    "    print(f'roc auc estimado: {score}\\nbest iteration: {learner.best_iteration_}')\n",
    "    if score > best_score:\n",
    "        print('*'*10, f'{p} es el nuevo mejor modelo', '*'*10)\n",
    "        best_score = score\n",
    "        best_probs = test_probs"
   ]
  },
  {
   "cell_type": "code",
   "execution_count": 149,
   "metadata": {},
   "outputs": [
    {
     "data": {
      "image/png": "[encoded data removed]",
      "text/plain": [
       "<Figure size 720x360 with 1 Axes>"
      ]
     },
     "metadata": {},
     "output_type": "display_data"
    }
   ],
   "source": [
    "from lightgbm import plot_importance, plot_split_value_histogram, plot_metric\n",
    "plot_importance(learner,max_num_features=20,importance_type='gain',figsize=(10,5),title='');"
   ]
  },
  {
   "cell_type": "code",
   "execution_count": 150,
   "metadata": {},
   "outputs": [
    {
     "data": {
      "image/png": "[encoded data removed]",
      "text/plain": [
       "<Figure size 720x360 with 1 Axes>"
      ]
     },
     "metadata": {},
     "output_type": "display_data"
    }
   ],
   "source": [
    "plot_split_value_histogram(learner,feature='condicion_diff_sum',figsize=(10,5));"
   ]
  },
  {
   "cell_type": "code",
   "execution_count": 151,
   "metadata": {},
   "outputs": [
    {
     "data": {
      "image/png": "[encoded data removed]",
      "text/plain": [
       "<Figure size 720x360 with 1 Axes>"
      ]
     },
     "metadata": {},
     "output_type": "display_data"
    }
   ],
   "source": [
    "plot_metric(learner,metric=None,figsize=(10,5));"
   ]
  },
  {
   "cell_type": "code",
   "execution_count": 152,
   "metadata": {},
   "outputs": [],
   "source": [
    "best_probs.name = 'target'\n",
    "best_probs.to_csv(\"submissions/submission_lgbm.csv\")"
   ]
  },
  {
   "cell_type": "code",
   "execution_count": null,
   "metadata": {},
   "outputs": [],
   "source": []
  },
  {
   "cell_type": "code",
   "execution_count": 26,
   "metadata": {},
   "outputs": [],
   "source": [
    "from scipy.stats import randint\n",
    "from scipy.stats import uniform\n",
    "\n",
    "from sklearn.metrics import make_scorer"
   ]
  },
  {
   "cell_type": "code",
   "execution_count": 27,
   "metadata": {},
   "outputs": [],
   "source": [
    "def report_perf(optimizer, X, y, title, callbacks=None):\n",
    "    \"\"\"\n",
    "    A wrapper for measuring time and performances of different optmizers\n",
    "    \n",
    "    optimizer = a sklearn or a skopt optimizer\n",
    "    X = the training set \n",
    "    y = our target\n",
    "    title = a string label for the experiment\n",
    "    \"\"\"\n",
    "    start = time()\n",
    "    if callbacks:\n",
    "        optimizer.fit(X, y, callback=callbacks)\n",
    "    else:\n",
    "        optimizer.fit(X, y)\n",
    "    best_score = optimizer.best_score_\n",
    "    best_score_std = optimizer.cv_results_['std_test_score'][optimizer.best_index_]\n",
    "    best_params = optimizer.best_params_\n",
    "    print((title + \" took %.2f seconds,  candidates checked: %d, best CV score: %.3f \"\n",
    "           +u\"\\u00B1\"+\" %.3f\") % (time() - start, \n",
    "                                  len(optimizer.cv_results_['params']),\n",
    "                                  best_score,\n",
    "                                  best_score_std))    \n",
    "    print('Best parameters:')\n",
    "    pprint.pprint(best_params)\n",
    "    print()\n",
    "    return best_params"
   ]
  },
  {
   "cell_type": "code",
   "execution_count": 28,
   "metadata": {},
   "outputs": [],
   "source": [
    "from skopt import BayesSearchCV\n",
    "from skopt import gp_minimize # Bayesian optimization using Gaussian Processes\n",
    "from skopt.space import Real, Categorical, Integer\n",
    "from skopt.utils import use_named_args # decorator to convert a list of parameters to named arguments\n",
    "from skopt.callbacks import DeadlineStopper # Stop the optimization before running out of a fixed budget of time.\n",
    "from skopt.callbacks import VerboseCallback # Callback to control the verbosity\n",
    "from skopt.callbacks import DeltaXStopper # Stop the optimization If the last two positions at which the objective has been evaluated are less than delta"
   ]
  },
  {
   "cell_type": "code",
   "execution_count": 29,
   "metadata": {},
   "outputs": [],
   "source": [
    "skf = StratifiedKFold(n_splits=5, shuffle=True, random_state=0)"
   ]
  },
  {
   "cell_type": "code",
   "execution_count": 30,
   "metadata": {},
   "outputs": [],
   "source": [
    "avg_roc = make_scorer(roc_auc_score, greater_is_better=True, needs_proba=True)"
   ]
  },
  {
   "cell_type": "code",
   "execution_count": 31,
   "metadata": {},
   "outputs": [
    {
     "name": "stdout",
     "output_type": "stream",
     "text": [
      "[LightGBM] [Warning] Auto-choosing col-wise multi-threading, the overhead of testing was 1.995978 seconds.\n",
      "You can set `force_col_wise=true` to remove the overhead.\n",
      "[LightGBM] [Warning] No further splits with positive gain, best gain: -inf\n",
      "[LightGBM] [Warning] No further splits with positive gain, best gain: -inf\n",
      "[LightGBM] [Warning] No further splits with positive gain, best gain: -inf\n",
      "[LightGBM] [Warning] No further splits with positive gain, best gain: -inf\n",
      "LightGBM took 15811.53 seconds,  candidates checked: 1, best CV score: 0.502 ± 0.003\n",
      "Best parameters:\n",
      "OrderedDict([('colsample_bytree', 0.3706219857878677),\n",
      "             ('learning_rate', 0.16624226726409647),\n",
      "             ('max_bin', 93400),\n",
      "             ('max_depth', 134),\n",
      "             ('min_child_samples', 130),\n",
      "             ('min_child_weight', 4),\n",
      "             ('n_estimators', 8028),\n",
      "             ('num_leaves', 27),\n",
      "             ('reg_alpha', 1.081049236893711e-05),\n",
      "             ('reg_lambda', 1.043686239159047),\n",
      "             ('scale_pos_weight', 0.19222548462579486),\n",
      "             ('subsample', 0.6941640075502717),\n",
      "             ('subsample_for_bin', 375140),\n",
      "             ('subsample_freq', 7)])\n",
      "\n"
     ]
    }
   ],
   "source": [
    "clf = LGBMClassifier(boosting_type='gbdt',objective='binary',n_jobs=-1,verbose=0)\n",
    "\n",
    "search_spaces = {\n",
    "        'learning_rate': Real(0.01, 0.5, 'log-uniform'),\n",
    "        'num_leaves': Integer(2, 500),\n",
    "        'max_depth': Integer(0, 500),\n",
    "        'min_child_samples': Integer(0, 1500), # minimal number of data in one leaf\n",
    "        'min_child_weight': Integer(0, 10), # minimal number of data in one leaf.\n",
    "        'n_estimators': Integer(10, 5000)        \n",
    "        }\n",
    "\n",
    "opt = BayesSearchCV(clf,search_spaces,scoring=avg_roc,cv=skf,n_iter=20,\n",
    "                    n_jobs=-1,return_train_score=False,refit=True,\n",
    "                    optimizer_kwargs={'base_estimator': 'GP'},random_state=22)\n",
    "    \n",
    "best_params = report_perf(opt, train, y_train,'LightGBM', \n",
    "                          callbacks=[DeltaXStopper(0.001), \n",
    "                                     DeadlineStopper(60*3)])"
   ]
  },
  {
   "cell_type": "code",
   "execution_count": 154,
   "metadata": {},
   "outputs": [
    {
     "name": "stdout",
     "output_type": "stream",
     "text": [
      "Train:(358487, 1063)\n",
      "Test:(396666, 1063)\n"
     ]
    }
   ],
   "source": [
    "print(f'Train:{train.shape}\\nTest:{test.shape}')"
   ]
  },
  {
   "cell_type": "markdown",
   "metadata": {},
   "source": [
    "### Stacking"
   ]
  },
  {
   "cell_type": "code",
   "execution_count": 153,
   "metadata": {},
   "outputs": [],
   "source": [
    "from sklearn.naive_bayes import GaussianNB\n",
    "from sklearn.linear_model import LogisticRegression, SGDClassifier"
   ]
  },
  {
   "cell_type": "code",
   "execution_count": 156,
   "metadata": {},
   "outputs": [
    {
     "data": {
      "application/vnd.jupyter.widget-view+json": {
       "model_id": "2ab92ba15acb41e3b06a0513b4924413",
       "version_major": 2,
       "version_minor": 0
      },
      "text/plain": [
       "|          | 0/? [00:00<?, ?it/s]"
      ]
     },
     "metadata": {},
     "output_type": "display_data"
    },
    {
     "name": "stdout",
     "output_type": "stream",
     "text": [
      "probs_lgbm: 0.8535337488777248\n",
      "probs_catb: 0.85111957297493\n",
      "probs_scik: 0.848756485366094\n",
      "probs_mean: 0.8531889895561533\n",
      "0    1666\n",
      "0    1196\n",
      "0     305\n",
      "0    1858\n",
      "0    1188\n",
      "0     338\n",
      "0    1563\n",
      "0    1198\n",
      "0     357\n",
      "0    1398\n",
      "0    1199\n",
      "0     268\n",
      "0    1452\n",
      "0    1199\n",
      "0     323\n",
      "dtype: int64\n",
      "CPU times: user 15h 36min 39s, sys: 31min 7s, total: 16h 7min 47s\n",
      "Wall time: 1h 31min 43s\n"
     ]
    }
   ],
   "source": [
    "%%time\n",
    "test_probs = []\n",
    "train_probs = []\n",
    "best_iter = []\n",
    "\n",
    "probs_lgbm = []\n",
    "probs_catb = []\n",
    "probs_scik = []\n",
    "test_lgbm = []\n",
    "test_catb = []\n",
    "test_scik = []\n",
    "\n",
    "for i, idx in tqdm(enumerate(folds)):\n",
    "    Xt = train.loc[idx]\n",
    "    Xv = train.drop(Xt.index)\n",
    "    yt, yv = y_train.loc[Xt.index], y_train.loc[Xv.index]\n",
    "\n",
    "    model_lgbm = LGBMClassifier(n_estimators=2000,objective='binary',metric='auc',min_child_samples=1250,\n",
    "                                num_leaves=100,learning_rate=0.01,n_jobs=-1)\n",
    "    model_lgbm.fit(Xt,yt, early_stopping_rounds=30,eval_metric='auc',eval_set=[(Xt,yt),(Xv,yv)],verbose=False)\n",
    "    test_lgbm.append(pd.Series(model_lgbm.predict_proba(test)[:,-1],index=test.index,name='fold_' + str(i)))\n",
    "    probs_lgbm.append(pd.Series(model_lgbm.predict_proba(Xv)[:,-1],index=Xv.index,name='probs_lgbm'))\n",
    "    \n",
    "    model_catb = CatBoostClassifier(iterations=1200,eval_metric='AUC',max_depth=8,learning_rate=0.05,verbose=0)\n",
    "    model_catb.fit(Xt,yt,early_stopping_rounds=30,eval_set=[(Xt,yt),(Xv,yv)],verbose=False)\n",
    "    test_catb.append(pd.Series(model_catb.predict_proba(test)[:,-1],index=test.index,name=\"fold_\" + str(i)))\n",
    "    probs_catb.append(pd.Series(model_catb.predict_proba(Xv)[:,-1],index=Xv.index,name=\"probs_catb\"))\n",
    "    \n",
    "    model_scik = HistGradientBoostingClassifier(max_iter=600,verbose=0,scoring='roc_auc',learning_rate=0.05)\n",
    "    model_scik.fit(Xt,yt)\n",
    "    test_scik.append(pd.Series(model_scik.predict_proba(test)[:,-1],index=test.index,name=\"fold_\" + str(i)))\n",
    "    probs_scik.append(pd.Series(model_scik.predict_proba(Xv)[:,-1],index=Xv.index,name=\"probs_scik\"))\n",
    "    \n",
    "    #gnb = GaussianNB()\n",
    "    #gnb.fit(Xt,yt)\n",
    "    #train_probs.append(pd.Series(gnb.predict_proba(Xv)[:, -1], index=Xv.index, name=\"probs_gnb\"))\n",
    "    \n",
    "    #sdg = SGDClassifier(loss=\"log\", penalty=\"l2\", max_iter=5)\n",
    "    #sdg.fit(Xt,yt)\n",
    "    #train_probs.append(pd.Series(sdg.predict_proba(Xv)[:, -1], index=Xv.index, name=\"probs_sdg\"))\n",
    "    \n",
    "    best_iter.append(pd.Series(model_lgbm.best_iteration_))\n",
    "    best_iter.append(pd.Series(model_catb.best_iteration_))\n",
    "    best_iter.append(pd.Series(model_scik.n_iter_))\n",
    "    #best_iter.append(pd.Series(gnb.best_iteration_, index='gnb'))\n",
    "    #best_iter.append(pd.Series(sdg.best_iteration_, index='sdg'))\n",
    "\n",
    "test_lgbm = pd.concat(test_lgbm, axis=1).mean(axis=1).to_frame('probs_lgbm')\n",
    "test_catb = pd.concat(test_catb, axis=1).mean(axis=1).to_frame('probs_catb')\n",
    "test_scik = pd.concat(test_scik, axis=1).mean(axis=1).to_frame('probs_scik')\n",
    "test_probs = test_lgbm.join(test_catb).join(test_scik)\n",
    "test_probs['probs_mean'] = test_probs.mean(axis=1)\n",
    "\n",
    "probs_lgbm = pd.concat(probs_lgbm).to_frame()\n",
    "probs_catb = pd.concat(probs_catb).to_frame()\n",
    "probs_scik = pd.concat(probs_scik).to_frame()\n",
    "train_probs = probs_lgbm.join(probs_catb).join(probs_scik)\n",
    "train_probs['probs_mean'] = train_probs.mean(axis=1)\n",
    "\n",
    "for i in train_probs.columns:\n",
    "    score = roc_auc_score(y_train, train_probs.loc[y_train.index][i])\n",
    "    print(f'{i}: {score}')\n",
    "\n",
    "best_iter = pd.concat(best_iter)\n",
    "print(best_iter)"
   ]
  },
  {
   "cell_type": "code",
   "execution_count": 187,
   "metadata": {},
   "outputs": [],
   "source": [
    "params = ParameterGrid({'C': [1,2,5,10,20]})"
   ]
  },
  {
   "cell_type": "code",
   "execution_count": 194,
   "metadata": {},
   "outputs": [
    {
     "data": {
      "application/vnd.jupyter.widget-view+json": {
       "model_id": "96d5427b33684a5f888df02660494ae9",
       "version_major": 2,
       "version_minor": 0
      },
      "text/plain": [
       "|          | 0/? [00:00<?, ?it/s]"
      ]
     },
     "metadata": {},
     "output_type": "display_data"
    },
    {
     "name": "stdout",
     "output_type": "stream",
     "text": [
      "C=1: 0.8519849948734305\n"
     ]
    },
    {
     "data": {
      "image/png": "[encoded data removed]",
      "text/plain": [
       "<Figure size 432x288 with 1 Axes>"
      ]
     },
     "metadata": {},
     "output_type": "display_data"
    }
   ],
   "source": [
    "best_score = 0\n",
    "scores = []\n",
    "\n",
    "for param in params:\n",
    "    p  = ' / '.join([f'{k}={v}' for k, v in param.items()])\n",
    "    probs_stacked = []\n",
    "    test_probs_stacked = []\n",
    "    for i, idx in tqdm(enumerate(folds)):\n",
    "        Xt = train_probs.loc[idx]\n",
    "        Xv = train_probs.drop(Xt.index)\n",
    "        yt, yv = y_train.loc[Xt.index], y_train.loc[Xv.index]\n",
    "\n",
    "        log = LogisticRegression(max_iter=100,**param)\n",
    "        log.fit(Xt,yt)\n",
    "        test_probs_stacked.append(pd.Series(log.predict_proba(test_probs)[:,-1],index=test_probs.index,name=\"fold_\" + str(i)))\n",
    "        probs_stacked.append(pd.Series(log.predict_proba(Xv)[:,-1],index=Xv.index,name=\"probs_stacked\"))\n",
    "        \n",
    "    test_probs_stacked = pd.concat(test_probs_stacked,axis=1).mean(axis=1)\n",
    "    probs_stacked = pd.concat(probs_stacked).to_frame()\n",
    "    score = roc_auc_score(y_train, probs_stacked.loc[y_train.index]['probs_stacked'])\n",
    "    scores.append(score)\n",
    "    print(f'{p}: {score}')\n",
    "    \n",
    "    if score > best_score:\n",
    "        best_score = score\n",
    "        best_probs = test_probs_stacked\n",
    "\n",
    "plt.scatter(y=scores,x=[1,2,5,10,20]);"
   ]
  },
  {
   "cell_type": "code",
   "execution_count": 161,
   "metadata": {},
   "outputs": [],
   "source": [
    "test_probs_stacked.name = 'target'\n",
    "test_probs_stacked.to_csv(\"submissions/stacked.csv\")"
   ]
  },
  {
   "cell_type": "markdown",
   "metadata": {},
   "source": [
    "### XGBoost"
   ]
  },
  {
   "cell_type": "code",
   "execution_count": null,
   "metadata": {},
   "outputs": [],
   "source": [
    "%%time\n",
    "test_probs = []\n",
    "train_probs = []\n",
    "\n",
    "for i, idx in tqdm(enumerate(folds)):\n",
    "    Xt = train.loc[idx]\n",
    "    Xv = train.drop(Xt.index)\n",
    "    yt, yv = y_train.loc[Xt.index], y_train.loc[Xv.index]\n",
    "\n",
    "    learner = XGBClassifier(n_estimators=1500,objective='binary:logistic',n_jobs=-1,max_depth=6,learning_rate=0.05)                                \n",
    "    learner.fit(Xt,yt,early_stopping_rounds=20,eval_metric='auc',eval_set=[(Xt,yt),(Xv,yv)],verbose=False)\n",
    "    test_probs.append(pd.Series(learner.predict_proba(test)[:, -1], index=test.index, name='fold_' + str(i)))\n",
    "    train_probs.append(pd.Series(learner.predict_proba(Xv)[:, -1], index=Xv.index, name='probs'))\n",
    "\n",
    "test_probs = pd.concat(test_probs, axis=1).mean(axis=1)\n",
    "train_probs = pd.concat(train_probs)\n",
    "score = roc_auc_score(y_train, train_probs.loc[y_train.index])\n",
    "print(f'roc auc estimado: {score}\\nbest iteration: {learner.best_iteration_}')\n",
    "best_probs = test_probs"
   ]
  },
  {
   "cell_type": "code",
   "execution_count": null,
   "metadata": {},
   "outputs": [],
   "source": []
  }
 ],
 "metadata": {
  "kernelspec": {
   "display_name": "Python 3",
   "language": "python",
   "name": "python3"
  },
  "language_info": {
   "codemirror_mode": {
    "name": "ipython",
    "version": 3
   },
   "file_extension": ".py",
   "mimetype": "text/x-python",
   "name": "python",
   "nbconvert_exporter": "python",
   "pygments_lexer": "ipython3",
   "version": "3.7.9"
  }
 },
 "nbformat": 4,
 "nbformat_minor": 4
}
